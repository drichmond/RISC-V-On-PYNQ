{
 "cells": [
  {
   "cell_type": "markdown",
   "metadata": {},
   "source": [
    "## Packaging an orca processor in PYNQ Z2\n",
    "\n",
    "The main objective of this tutorial is to show integrate the [orca processor] (https://github.com/VectorBlox/orca) with the overlay built to test various RISC processors. It is highly advisable to first try and finish the tutorial notebooks where a pico processor is packaged and run in a PYNQ Z1 board. This also applies to the PYNQ Z2 board. We assume that those tutorials have already been tried and tested by the user.\n",
    "\n",
    "These are the steps to integrate the Orca Processor with the Base Overlay:\n",
    "1. Clone the orca repository\n",
    "2. Open Vivado and package the Orca overlay and create IP\n",
    "3. Attach IP with the base overlay inspired by connections to the Zedboard\n",
    "4. Generate Bitstream and Tcl files for the new overlay and follow the steps in [tutorial-4] (https://github.com/drichmond/RISC-V-On-PYNQ/blob/master/notebooks/tutorial/4-Packaging-An-Overlay.ipynb)\n",
    "\n",
    "**1. Clone the orca repository**"
   ]
  },
  {
   "cell_type": "code",
   "execution_count": null,
   "metadata": {},
   "outputs": [],
   "source": [
    "git clone https://github.com/VectorBlox/orca.git"
   ]
  },
  {
   "cell_type": "markdown",
   "metadata": {},
   "source": [
    "After cloning the repo, enter the \"~Location where Repo is downloaded~/orca/ip/orca/hdl\" folder. This directory location contains all the files necessary to build an IP on Vivado. \n",
    "\n",
    "<div class=\"alert alert-block alert-info\">\n",
    "** Note ** : Before importing the repo, be sure to run the make file in orca/systems/zedboard by running \"make gui\" to get a vivado project set up in the zedboard folder. Be sure to use cygwin if using windows and set up the appropriate environment variables to let the make file run the vivado commands. \n",
    "</div> \n",
    "\n",
    "**2. Open Vivado to create IP**\n",
    "\n",
    "1. After opening Vivado, we need to import the ORCA processor present in the zedboard interface to reduce the number of pins we get when directly creating a project by sourcing the hdl files for the orca processor. To do that, we can use the import repositories for the specified IP.  \n",
    "\n",
    "2. Go to Tools > Settings > IP > Repository and then + to add the specified folder. After that you will see a few IPs being added to the Tutorial overlay you have already created. \n",
    "\n",
    "<img src=\"img/orca_repo_source.png\" width=800 />\n",
    "\n",
    "3. For the current configuration, we will be using one LMB bus (ILMB and DLMB) and no uncached memory so we we will not be using the AXI interconnect present in the PICO processor.\n"
   ]
  },
  {
   "cell_type": "markdown",
   "metadata": {},
   "source": [
    "**3. Adding ORCA Processor to PYNQ Overlay**\n",
    "1. To get the overlay , follow the steps in tutorial-2 [https://github.com/drichmond/RISC-V-On-PYNQ/blob/master/notebooks/tutorial/2-Creating-A-Bitstream.ipynb] under the section BRAM Processor Overlay.\n",
    "\n",
    "2. First we will enter the tutorial Processor and add the ORCA processor by clicking on the + symbol and type the name of the processor as to how you had saved it. We will now modify the ORCA processor according the the specifications we desire. Right click after selecting the processor and click on customize block. change reset vector to 0x00000000. Enter the \"Memory and Cache\" tab and modify the AXI4-Lite Memory Regions to 0 to eliminate the IUC and DUC buses. After that change the LMB regions as shown in figure. \n",
    "\n",
    "<img src=\"img/lmb_config.png\" width=500 />\n",
    "\n",
    "3. After applying these changes the processor block should like figure shown below:\n",
    "\n",
    "<img src=\"img/orca_block.png\" width=200 />\n",
    "\n",
    "4. The connections now have to be done according to the LMB and not the AXI4-Lite bus as was done for the Picorv32 processor. So you need to remove and add components as shown in figure below:\n",
    "\n",
    "<img src=\"img/tutorial_processor_block.png\" width=500 />\n",
    "\n",
    "5. Connect the clk of slave and master of AXI interconnect and the clk of the ORCA to the riscv_clk pin.\n",
    "\n",
    "6. Similarly connect the AReset pins of the slave and master of the AXI Interconnect and the reset pin of ORCA , with the areset_n pin of the processor system reset block.\n",
    "\n",
    "7. Go to address editor tab and assign the address for the ORCA processor as shown below.\n",
    "\n",
    "<img src=\"img/address_editor.png\" width=800 />\n",
    "\n",
    "8. Select tools-> validate design , with no critical warnings or errors. Click generate bitsream.\n",
    "\n",
    "9. Open the block design, click on file -> export -> Export Block Design and save it in the location up one level in the directory tree as mentioned in the tutorial-2 notebook.\n",
    "\n",
    "\n"
   ]
  },
  {
   "cell_type": "markdown",
   "metadata": {},
   "source": [
    "### Verification and Testing\n",
    "\n",
    "To verify the correctness of the .tcl and .bit files generated by the project, you can replace the previous tutorial.tcl and tutorial.bit files used in the 4th tutorial and run these. Obviously, you will need to pip3 install again and run the magic code to get the output."
   ]
  },
  {
   "cell_type": "code",
   "execution_count": null,
   "metadata": {},
   "outputs": [],
   "source": []
  }
 ],
 "metadata": {
  "kernelspec": {
   "display_name": "Python 3",
   "language": "python",
   "name": "python3"
  },
  "language_info": {
   "codemirror_mode": {
    "name": "ipython",
    "version": 3
   },
   "file_extension": ".py",
   "mimetype": "text/x-python",
   "name": "python",
   "nbconvert_exporter": "python",
   "pygments_lexer": "ipython3",
   "version": "3.7.0"
  }
 },
 "nbformat": 4,
 "nbformat_minor": 2
}
